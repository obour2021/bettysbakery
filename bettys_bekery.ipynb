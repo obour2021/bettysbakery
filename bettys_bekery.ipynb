{
 "cells": [
  {
   "cell_type": "code",
   "execution_count": 1,
   "metadata": {},
   "outputs": [],
   "source": [
    "import numpy as np\n",
    "import csv"
   ]
  },
  {
   "cell_type": "code",
   "execution_count": 2,
   "metadata": {},
   "outputs": [
    {
     "name": "stdout",
     "output_type": "stream",
     "text": [
      "[[2.    0.75  2.    1.    0.5  ]\n",
      " [1.    0.125 1.    1.    0.125]\n",
      " [2.75  1.5   1.    0.    1.   ]\n",
      " [4.    0.5   2.    2.    0.5  ]]\n",
      "[[1.    0.125 1.    1.    0.125]\n",
      " [2.75  1.5   1.    0.    1.   ]]\n",
      "[2.75 1.5  1.   0.   1.  ]\n",
      "[6.75 3.   5.   2.   2.  ]\n"
     ]
    }
   ],
   "source": [
    "cupcakes = np.array([2, 0.75, 2, 1, 0.5])\n",
    "\n",
    "recipes = np.genfromtxt('recipes.csv', delimiter=',')\n",
    "\n",
    "print(recipes)\n",
    "eggs = recipes[:,2]\n",
    "\n",
    "# print(eggs)\n",
    "one_egg_recipe = recipes[(eggs == 1)]\n",
    "print(one_egg_recipe)\n",
    "\n",
    "cookies = recipes[2,:]\n",
    "print(cookies)\n",
    "\n",
    "double_batch = 2 * cupcakes\n",
    "\n",
    "grocery_list = cookies + double_batch\n",
    "print(grocery_list)\n"
   ]
  },
  {
   "cell_type": "code",
   "execution_count": null,
   "metadata": {},
   "outputs": [],
   "source": []
  }
 ],
 "metadata": {
  "kernelspec": {
   "display_name": "Python 3",
   "language": "python",
   "name": "python3"
  },
  "language_info": {
   "codemirror_mode": {
    "name": "ipython",
    "version": 3
   },
   "file_extension": ".py",
   "mimetype": "text/x-python",
   "name": "python",
   "nbconvert_exporter": "python",
   "pygments_lexer": "ipython3",
   "version": "3.7.3"
  }
 },
 "nbformat": 4,
 "nbformat_minor": 2
}
